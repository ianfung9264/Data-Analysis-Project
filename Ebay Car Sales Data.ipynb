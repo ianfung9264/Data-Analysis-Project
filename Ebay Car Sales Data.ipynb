{
 "cells": [
  {
   "cell_type": "markdown",
   "metadata": {},
   "source": [
    "# Exploring Ebay Car Sales Data\n",
    "\n",
    "\n",
    "I work with a dataset of used cars from eBay Kleinanzeigen, a classifieds section of the German eBay website.\n",
    "The dataset was originally scraped and uploaded to Kaggle (https://www.kaggle.com/orgesleka/used-cars-database/data).\n",
    "\n"
   ]
  },
  {
   "cell_type": "markdown",
   "metadata": {},
   "source": [
    "# Introduction\n",
    "\n",
    "The aim of this project is to clean the data and analyze the included used car listings.\n",
    "The data dictionary provided with data is as follows:\n",
    "\n",
    "\n",
    "\n",
    "- **dateCrawled** - When this ad was first crawled. All field-values are taken from this date.\n",
    "- **name** - Name of the car.\n",
    "- **seller** - Whether the seller is private or a dealer.\n",
    "- **offerType** - The type of listing\n",
    "- **price** - The price on the ad to sell the car.\n",
    "- **abtest** - Whether the listing is included in an A/B test.\n",
    "- **vehicleType** - The vehicle Type.\n",
    "- **yearOfRegistration** - The year in which the car was first registered.\n",
    "- **gearbox** - The transmission type.\n",
    "- **powerPS** - The power of the car in PS.\n",
    "- **model** - The car model name.\n",
    "- **kilometer** - How many kilometers the car has driven.\n",
    "- **monthOfRegistration** - The month in which the car was first registered.\n",
    "- **fuelType** - What type of fuel the car uses.\n",
    "- **brand** - The brand of the car.\n",
    "- **notRepairedDamage** - If the car has a damage which is not yet repaired.\n",
    "- **dateCreated** - The date on which the eBay listing was created.\n",
    "- **nrOfPictures** - The number of pictures in the ad.\n",
    "- **postalCode** - The postal code for the location of the vehicle.\n",
    "- **lastSeenOnline** - When the crawler saw this ad last online."
   ]
  },
  {
   "cell_type": "code",
   "execution_count": 1,
   "metadata": {},
   "outputs": [],
   "source": [
    "import numpy as np\n",
    "import pandas as pd\n"
   ]
  },
  {
   "cell_type": "code",
   "execution_count": 2,
   "metadata": {},
   "outputs": [
    {
     "data": {
      "text/html": [
       "<div>\n",
       "<style scoped>\n",
       "    .dataframe tbody tr th:only-of-type {\n",
       "        vertical-align: middle;\n",
       "    }\n",
       "\n",
       "    .dataframe tbody tr th {\n",
       "        vertical-align: top;\n",
       "    }\n",
       "\n",
       "    .dataframe thead th {\n",
       "        text-align: right;\n",
       "    }\n",
       "</style>\n",
       "<table border=\"1\" class=\"dataframe\">\n",
       "  <thead>\n",
       "    <tr style=\"text-align: right;\">\n",
       "      <th></th>\n",
       "      <th>dateCrawled</th>\n",
       "      <th>name</th>\n",
       "      <th>seller</th>\n",
       "      <th>offerType</th>\n",
       "      <th>price</th>\n",
       "      <th>abtest</th>\n",
       "      <th>vehicleType</th>\n",
       "      <th>yearOfRegistration</th>\n",
       "      <th>gearbox</th>\n",
       "      <th>powerPS</th>\n",
       "      <th>model</th>\n",
       "      <th>kilometer</th>\n",
       "      <th>monthOfRegistration</th>\n",
       "      <th>fuelType</th>\n",
       "      <th>brand</th>\n",
       "      <th>notRepairedDamage</th>\n",
       "      <th>dateCreated</th>\n",
       "      <th>nrOfPictures</th>\n",
       "      <th>postalCode</th>\n",
       "      <th>lastSeen</th>\n",
       "    </tr>\n",
       "  </thead>\n",
       "  <tbody>\n",
       "    <tr>\n",
       "      <th>0</th>\n",
       "      <td>2016-03-24 11:52:17</td>\n",
       "      <td>Golf_3_1.6</td>\n",
       "      <td>privat</td>\n",
       "      <td>Angebot</td>\n",
       "      <td>480</td>\n",
       "      <td>test</td>\n",
       "      <td>NaN</td>\n",
       "      <td>1993</td>\n",
       "      <td>manuell</td>\n",
       "      <td>0</td>\n",
       "      <td>golf</td>\n",
       "      <td>150000</td>\n",
       "      <td>0</td>\n",
       "      <td>benzin</td>\n",
       "      <td>volkswagen</td>\n",
       "      <td>NaN</td>\n",
       "      <td>2016-03-24 00:00:00</td>\n",
       "      <td>0</td>\n",
       "      <td>70435</td>\n",
       "      <td>2016-04-07 03:16:57</td>\n",
       "    </tr>\n",
       "    <tr>\n",
       "      <th>1</th>\n",
       "      <td>2016-03-24 10:58:45</td>\n",
       "      <td>A5_Sportback_2.7_Tdi</td>\n",
       "      <td>privat</td>\n",
       "      <td>Angebot</td>\n",
       "      <td>18300</td>\n",
       "      <td>test</td>\n",
       "      <td>coupe</td>\n",
       "      <td>2011</td>\n",
       "      <td>manuell</td>\n",
       "      <td>190</td>\n",
       "      <td>NaN</td>\n",
       "      <td>125000</td>\n",
       "      <td>5</td>\n",
       "      <td>diesel</td>\n",
       "      <td>audi</td>\n",
       "      <td>ja</td>\n",
       "      <td>2016-03-24 00:00:00</td>\n",
       "      <td>0</td>\n",
       "      <td>66954</td>\n",
       "      <td>2016-04-07 01:46:50</td>\n",
       "    </tr>\n",
       "    <tr>\n",
       "      <th>2</th>\n",
       "      <td>2016-03-14 12:52:21</td>\n",
       "      <td>Jeep_Grand_Cherokee_\"Overland\"</td>\n",
       "      <td>privat</td>\n",
       "      <td>Angebot</td>\n",
       "      <td>9800</td>\n",
       "      <td>test</td>\n",
       "      <td>suv</td>\n",
       "      <td>2004</td>\n",
       "      <td>automatik</td>\n",
       "      <td>163</td>\n",
       "      <td>grand</td>\n",
       "      <td>125000</td>\n",
       "      <td>8</td>\n",
       "      <td>diesel</td>\n",
       "      <td>jeep</td>\n",
       "      <td>NaN</td>\n",
       "      <td>2016-03-14 00:00:00</td>\n",
       "      <td>0</td>\n",
       "      <td>90480</td>\n",
       "      <td>2016-04-05 12:47:46</td>\n",
       "    </tr>\n",
       "    <tr>\n",
       "      <th>3</th>\n",
       "      <td>2016-03-17 16:54:04</td>\n",
       "      <td>GOLF_4_1_4__3TÜRER</td>\n",
       "      <td>privat</td>\n",
       "      <td>Angebot</td>\n",
       "      <td>1500</td>\n",
       "      <td>test</td>\n",
       "      <td>kleinwagen</td>\n",
       "      <td>2001</td>\n",
       "      <td>manuell</td>\n",
       "      <td>75</td>\n",
       "      <td>golf</td>\n",
       "      <td>150000</td>\n",
       "      <td>6</td>\n",
       "      <td>benzin</td>\n",
       "      <td>volkswagen</td>\n",
       "      <td>nein</td>\n",
       "      <td>2016-03-17 00:00:00</td>\n",
       "      <td>0</td>\n",
       "      <td>91074</td>\n",
       "      <td>2016-03-17 17:40:17</td>\n",
       "    </tr>\n",
       "    <tr>\n",
       "      <th>4</th>\n",
       "      <td>2016-03-31 17:25:20</td>\n",
       "      <td>Skoda_Fabia_1.4_TDI_PD_Classic</td>\n",
       "      <td>privat</td>\n",
       "      <td>Angebot</td>\n",
       "      <td>3600</td>\n",
       "      <td>test</td>\n",
       "      <td>kleinwagen</td>\n",
       "      <td>2008</td>\n",
       "      <td>manuell</td>\n",
       "      <td>69</td>\n",
       "      <td>fabia</td>\n",
       "      <td>90000</td>\n",
       "      <td>7</td>\n",
       "      <td>diesel</td>\n",
       "      <td>skoda</td>\n",
       "      <td>nein</td>\n",
       "      <td>2016-03-31 00:00:00</td>\n",
       "      <td>0</td>\n",
       "      <td>60437</td>\n",
       "      <td>2016-04-06 10:17:21</td>\n",
       "    </tr>\n",
       "  </tbody>\n",
       "</table>\n",
       "</div>"
      ],
      "text/plain": [
       "           dateCrawled                            name  seller offerType  \\\n",
       "0  2016-03-24 11:52:17                      Golf_3_1.6  privat   Angebot   \n",
       "1  2016-03-24 10:58:45            A5_Sportback_2.7_Tdi  privat   Angebot   \n",
       "2  2016-03-14 12:52:21  Jeep_Grand_Cherokee_\"Overland\"  privat   Angebot   \n",
       "3  2016-03-17 16:54:04              GOLF_4_1_4__3TÜRER  privat   Angebot   \n",
       "4  2016-03-31 17:25:20  Skoda_Fabia_1.4_TDI_PD_Classic  privat   Angebot   \n",
       "\n",
       "   price abtest vehicleType  yearOfRegistration    gearbox  powerPS  model  \\\n",
       "0    480   test         NaN                1993    manuell        0   golf   \n",
       "1  18300   test       coupe                2011    manuell      190    NaN   \n",
       "2   9800   test         suv                2004  automatik      163  grand   \n",
       "3   1500   test  kleinwagen                2001    manuell       75   golf   \n",
       "4   3600   test  kleinwagen                2008    manuell       69  fabia   \n",
       "\n",
       "   kilometer  monthOfRegistration fuelType       brand notRepairedDamage  \\\n",
       "0     150000                    0   benzin  volkswagen               NaN   \n",
       "1     125000                    5   diesel        audi                ja   \n",
       "2     125000                    8   diesel        jeep               NaN   \n",
       "3     150000                    6   benzin  volkswagen              nein   \n",
       "4      90000                    7   diesel       skoda              nein   \n",
       "\n",
       "           dateCreated  nrOfPictures  postalCode             lastSeen  \n",
       "0  2016-03-24 00:00:00             0       70435  2016-04-07 03:16:57  \n",
       "1  2016-03-24 00:00:00             0       66954  2016-04-07 01:46:50  \n",
       "2  2016-03-14 00:00:00             0       90480  2016-04-05 12:47:46  \n",
       "3  2016-03-17 00:00:00             0       91074  2016-03-17 17:40:17  \n",
       "4  2016-03-31 00:00:00             0       60437  2016-04-06 10:17:21  "
      ]
     },
     "execution_count": 2,
     "metadata": {},
     "output_type": "execute_result"
    }
   ],
   "source": [
    "autos= pd.read_csv('autos.csv', encoding = 'latin-1')\n",
    "autos.head()"
   ]
  },
  {
   "cell_type": "code",
   "execution_count": 3,
   "metadata": {
    "scrolled": true
   },
   "outputs": [
    {
     "name": "stdout",
     "output_type": "stream",
     "text": [
      "<class 'pandas.core.frame.DataFrame'>\n",
      "RangeIndex: 371528 entries, 0 to 371527\n",
      "Data columns (total 20 columns):\n",
      " #   Column               Non-Null Count   Dtype \n",
      "---  ------               --------------   ----- \n",
      " 0   dateCrawled          371528 non-null  object\n",
      " 1   name                 371528 non-null  object\n",
      " 2   seller               371528 non-null  object\n",
      " 3   offerType            371528 non-null  object\n",
      " 4   price                371528 non-null  int64 \n",
      " 5   abtest               371528 non-null  object\n",
      " 6   vehicleType          333659 non-null  object\n",
      " 7   yearOfRegistration   371528 non-null  int64 \n",
      " 8   gearbox              351319 non-null  object\n",
      " 9   powerPS              371528 non-null  int64 \n",
      " 10  model                351044 non-null  object\n",
      " 11  kilometer            371528 non-null  int64 \n",
      " 12  monthOfRegistration  371528 non-null  int64 \n",
      " 13  fuelType             338142 non-null  object\n",
      " 14  brand                371528 non-null  object\n",
      " 15  notRepairedDamage    299468 non-null  object\n",
      " 16  dateCreated          371528 non-null  object\n",
      " 17  nrOfPictures         371528 non-null  int64 \n",
      " 18  postalCode           371528 non-null  int64 \n",
      " 19  lastSeen             371528 non-null  object\n",
      "dtypes: int64(7), object(13)\n",
      "memory usage: 56.7+ MB\n"
     ]
    }
   ],
   "source": [
    "autos.info()"
   ]
  },
  {
   "cell_type": "markdown",
   "metadata": {},
   "source": [
    "# Data Cleaning\n",
    "\n",
    "From above, the following observations were made:\n",
    "\n",
    "- The dataset contains 20 columns, most of which are strings.\n",
    "- Some columns have null values, but none have more than ~20% null values.\n",
    "- The column names use camelcase instead of Python's preferred snakecase, which means we can't just replace spaces with underscores."
   ]
  },
  {
   "cell_type": "code",
   "execution_count": 4,
   "metadata": {},
   "outputs": [
    {
     "data": {
      "text/plain": [
       "Index(['dateCrawled', 'name', 'seller', 'offerType', 'price', 'abtest',\n",
       "       'vehicleType', 'yearOfRegistration', 'gearbox', 'powerPS', 'model',\n",
       "       'kilometer', 'monthOfRegistration', 'fuelType', 'brand',\n",
       "       'notRepairedDamage', 'dateCreated', 'nrOfPictures', 'postalCode',\n",
       "       'lastSeen'],\n",
       "      dtype='object')"
      ]
     },
     "execution_count": 4,
     "metadata": {},
     "output_type": "execute_result"
    }
   ],
   "source": [
    "autos.columns"
   ]
  },
  {
   "cell_type": "code",
   "execution_count": 5,
   "metadata": {},
   "outputs": [],
   "source": [
    "autos.columns = [\n",
    "       'date_crawled', 'name', 'seller', 'offer_type', 'price', 'abtest',\n",
    "       'vehicle_type', 'registration_year', 'gearbox', 'power_ps', 'model',\n",
    "       'kilometer', 'registration_month', 'fuel_type', 'brand',\n",
    "       'unrepaired_damage', 'ad_created', 'nr_of_pictures', 'postal_code',\n",
    "       'last_seen'\n",
    "]"
   ]
  },
  {
   "cell_type": "markdown",
   "metadata": {},
   "source": [
    "# Exploring the Kilometer and Price Columns\n",
    "\n",
    "We'll start by analyzing the kilometer and price columns. Here's the steps we'll take:\n",
    "Analyze the columns using minimum and maximum values and look for any values that look unrealistically high or low (outliers) that we might want to remove.\n",
    "We'll use:\n",
    "- Series.unique().shape to see how many unique values\n",
    "- Series.describe() to view min/max/median/mean etc\n",
    "- Series.value_counts(), with some variations:\n",
    "- chained to .head() if there are lots of values.\n",
    "\n",
    "Because Series.value_counts() returns a series, we can use Series.sort_index() with ascending= True or False to view the highest and lowest values with their counts (can also chain to head() here).\n",
    "When removing outliers, we can do df[(df[\"col\"] > x ) & (df[\"col\"] < y )], but it's more readable to use df[df[\"col\"].between(x,y)]"
   ]
  },
  {
   "cell_type": "code",
   "execution_count": 6,
   "metadata": {},
   "outputs": [
    {
     "data": {
      "text/plain": [
       "(13,)"
      ]
     },
     "execution_count": 6,
     "metadata": {},
     "output_type": "execute_result"
    }
   ],
   "source": [
    "autos['kilometer'].unique().shape"
   ]
  },
  {
   "cell_type": "code",
   "execution_count": 7,
   "metadata": {},
   "outputs": [
    {
     "data": {
      "text/plain": [
       "<bound method NDFrame.describe of 0         150000\n",
       "1         125000\n",
       "2         125000\n",
       "3         150000\n",
       "4          90000\n",
       "           ...  \n",
       "371523     20000\n",
       "371524    125000\n",
       "371525    150000\n",
       "371526    150000\n",
       "371527     50000\n",
       "Name: kilometer, Length: 371528, dtype: int64>"
      ]
     },
     "execution_count": 7,
     "metadata": {},
     "output_type": "execute_result"
    }
   ],
   "source": [
    "autos['kilometer'].describe"
   ]
  },
  {
   "cell_type": "code",
   "execution_count": 8,
   "metadata": {},
   "outputs": [
    {
     "data": {
      "text/plain": [
       "150000    240797\n",
       "125000     38067\n",
       "100000     15920\n",
       "90000      12523\n",
       "80000      11053\n",
       "70000       9773\n",
       "60000       8669\n",
       "50000       7615\n",
       "5000        7069\n",
       "40000       6376\n",
       "30000       6041\n",
       "20000       5676\n",
       "10000       1949\n",
       "Name: kilometer, dtype: int64"
      ]
     },
     "execution_count": 8,
     "metadata": {},
     "output_type": "execute_result"
    }
   ],
   "source": [
    "autos['kilometer'].value_counts()"
   ]
  },
  {
   "cell_type": "code",
   "execution_count": 9,
   "metadata": {},
   "outputs": [
    {
     "data": {
      "text/plain": [
       "(5597,)"
      ]
     },
     "execution_count": 9,
     "metadata": {},
     "output_type": "execute_result"
    }
   ],
   "source": [
    "autos['price'].unique().shape"
   ]
  },
  {
   "cell_type": "code",
   "execution_count": 10,
   "metadata": {},
   "outputs": [
    {
     "data": {
      "text/plain": [
       "<bound method NDFrame.describe of 0           480\n",
       "1         18300\n",
       "2          9800\n",
       "3          1500\n",
       "4          3600\n",
       "          ...  \n",
       "371523     2200\n",
       "371524     1199\n",
       "371525     9200\n",
       "371526     3400\n",
       "371527    28990\n",
       "Name: price, Length: 371528, dtype: int64>"
      ]
     },
     "execution_count": 10,
     "metadata": {},
     "output_type": "execute_result"
    }
   ],
   "source": [
    "autos['price'].describe"
   ]
  },
  {
   "cell_type": "code",
   "execution_count": 11,
   "metadata": {},
   "outputs": [
    {
     "data": {
      "text/plain": [
       "0       10778\n",
       "500      5670\n",
       "1500     5394\n",
       "1000     4649\n",
       "1200     4594\n",
       "Name: price, dtype: int64"
      ]
     },
     "execution_count": 11,
     "metadata": {},
     "output_type": "execute_result"
    }
   ],
   "source": [
    "autos['price'].value_counts().head()"
   ]
  },
  {
   "cell_type": "markdown",
   "metadata": {},
   "source": [
    "# Exploring the date columns\n",
    "Let's now move on to the date columns and understand the date range the data covers.\n",
    "There are 5 columns that should represent date values. Some of these columns were created by the crawler, some came from the website itself. We can differentiate by referring to the data dictionary:\n",
    "- **dataCrawled**: added by the crawler\n",
    "- **lastSeen**: added by the crawler\n",
    "- **ad_created**: from the website\n",
    "- **registration_month**: from the website\n",
    "- **registration_year**: from the website\n",
    "\n",
    "Right now, the date_crawled, last_seen, and ad_created columns are all identified as string values by pandas. Because these three columns are represented as strings, we need to convert the data into a numerical representation so we can understand it quantitatively. The other two columns are represented as numeric values, so we can use methods like Series.describe() to understand the distribution without any extra data processing.\n",
    "Let's first understand how the values in the three string columns are formatted. These columns all represent full timestamp values, like so:"
   ]
  },
  {
   "cell_type": "code",
   "execution_count": 12,
   "metadata": {},
   "outputs": [
    {
     "data": {
      "text/html": [
       "<div>\n",
       "<style scoped>\n",
       "    .dataframe tbody tr th:only-of-type {\n",
       "        vertical-align: middle;\n",
       "    }\n",
       "\n",
       "    .dataframe tbody tr th {\n",
       "        vertical-align: top;\n",
       "    }\n",
       "\n",
       "    .dataframe thead th {\n",
       "        text-align: right;\n",
       "    }\n",
       "</style>\n",
       "<table border=\"1\" class=\"dataframe\">\n",
       "  <thead>\n",
       "    <tr style=\"text-align: right;\">\n",
       "      <th></th>\n",
       "      <th>date_crawled</th>\n",
       "      <th>ad_created</th>\n",
       "      <th>last_seen</th>\n",
       "    </tr>\n",
       "  </thead>\n",
       "  <tbody>\n",
       "    <tr>\n",
       "      <th>0</th>\n",
       "      <td>2016-03-24 11:52:17</td>\n",
       "      <td>2016-03-24 00:00:00</td>\n",
       "      <td>2016-04-07 03:16:57</td>\n",
       "    </tr>\n",
       "    <tr>\n",
       "      <th>1</th>\n",
       "      <td>2016-03-24 10:58:45</td>\n",
       "      <td>2016-03-24 00:00:00</td>\n",
       "      <td>2016-04-07 01:46:50</td>\n",
       "    </tr>\n",
       "    <tr>\n",
       "      <th>2</th>\n",
       "      <td>2016-03-14 12:52:21</td>\n",
       "      <td>2016-03-14 00:00:00</td>\n",
       "      <td>2016-04-05 12:47:46</td>\n",
       "    </tr>\n",
       "    <tr>\n",
       "      <th>3</th>\n",
       "      <td>2016-03-17 16:54:04</td>\n",
       "      <td>2016-03-17 00:00:00</td>\n",
       "      <td>2016-03-17 17:40:17</td>\n",
       "    </tr>\n",
       "    <tr>\n",
       "      <th>4</th>\n",
       "      <td>2016-03-31 17:25:20</td>\n",
       "      <td>2016-03-31 00:00:00</td>\n",
       "      <td>2016-04-06 10:17:21</td>\n",
       "    </tr>\n",
       "  </tbody>\n",
       "</table>\n",
       "</div>"
      ],
      "text/plain": [
       "          date_crawled           ad_created            last_seen\n",
       "0  2016-03-24 11:52:17  2016-03-24 00:00:00  2016-04-07 03:16:57\n",
       "1  2016-03-24 10:58:45  2016-03-24 00:00:00  2016-04-07 01:46:50\n",
       "2  2016-03-14 12:52:21  2016-03-14 00:00:00  2016-04-05 12:47:46\n",
       "3  2016-03-17 16:54:04  2016-03-17 00:00:00  2016-03-17 17:40:17\n",
       "4  2016-03-31 17:25:20  2016-03-31 00:00:00  2016-04-06 10:17:21"
      ]
     },
     "execution_count": 12,
     "metadata": {},
     "output_type": "execute_result"
    }
   ],
   "source": [
    "autos[['date_crawled','ad_created','last_seen']][0:5]"
   ]
  },
  {
   "cell_type": "code",
   "execution_count": 13,
   "metadata": {},
   "outputs": [
    {
     "data": {
      "text/html": [
       "<div>\n",
       "<style scoped>\n",
       "    .dataframe tbody tr th:only-of-type {\n",
       "        vertical-align: middle;\n",
       "    }\n",
       "\n",
       "    .dataframe tbody tr th {\n",
       "        vertical-align: top;\n",
       "    }\n",
       "\n",
       "    .dataframe thead th {\n",
       "        text-align: right;\n",
       "    }\n",
       "</style>\n",
       "<table border=\"1\" class=\"dataframe\">\n",
       "  <thead>\n",
       "    <tr style=\"text-align: right;\">\n",
       "      <th></th>\n",
       "      <th>date_crawled</th>\n",
       "      <th>ad_created</th>\n",
       "      <th>last_seen</th>\n",
       "    </tr>\n",
       "  </thead>\n",
       "  <tbody>\n",
       "    <tr>\n",
       "      <th>0</th>\n",
       "      <td>2016-03-24 11:52:17</td>\n",
       "      <td>2016-03-24 00:00:00</td>\n",
       "      <td>2016-04-07 03:16:57</td>\n",
       "    </tr>\n",
       "    <tr>\n",
       "      <th>1</th>\n",
       "      <td>2016-03-24 10:58:45</td>\n",
       "      <td>2016-03-24 00:00:00</td>\n",
       "      <td>2016-04-07 01:46:50</td>\n",
       "    </tr>\n",
       "    <tr>\n",
       "      <th>2</th>\n",
       "      <td>2016-03-14 12:52:21</td>\n",
       "      <td>2016-03-14 00:00:00</td>\n",
       "      <td>2016-04-05 12:47:46</td>\n",
       "    </tr>\n",
       "    <tr>\n",
       "      <th>3</th>\n",
       "      <td>2016-03-17 16:54:04</td>\n",
       "      <td>2016-03-17 00:00:00</td>\n",
       "      <td>2016-03-17 17:40:17</td>\n",
       "    </tr>\n",
       "    <tr>\n",
       "      <th>4</th>\n",
       "      <td>2016-03-31 17:25:20</td>\n",
       "      <td>2016-03-31 00:00:00</td>\n",
       "      <td>2016-04-06 10:17:21</td>\n",
       "    </tr>\n",
       "  </tbody>\n",
       "</table>\n",
       "</div>"
      ],
      "text/plain": [
       "          date_crawled           ad_created            last_seen\n",
       "0  2016-03-24 11:52:17  2016-03-24 00:00:00  2016-04-07 03:16:57\n",
       "1  2016-03-24 10:58:45  2016-03-24 00:00:00  2016-04-07 01:46:50\n",
       "2  2016-03-14 12:52:21  2016-03-14 00:00:00  2016-04-05 12:47:46\n",
       "3  2016-03-17 16:54:04  2016-03-17 00:00:00  2016-03-17 17:40:17\n",
       "4  2016-03-31 17:25:20  2016-03-31 00:00:00  2016-04-06 10:17:21"
      ]
     },
     "execution_count": 13,
     "metadata": {},
     "output_type": "execute_result"
    }
   ],
   "source": [
    "autos[['date_crawled','ad_created','last_seen']][0:5]"
   ]
  },
  {
   "cell_type": "code",
   "execution_count": 14,
   "metadata": {},
   "outputs": [
    {
     "data": {
      "text/plain": [
       "2016-03-24 14:49:47    0.000019\n",
       "2016-03-19 21:49:56    0.000016\n",
       "2016-03-26 22:57:31    0.000016\n",
       "2016-03-07 17:36:19    0.000013\n",
       "2016-03-11 15:36:59    0.000013\n",
       "                         ...   \n",
       "2016-03-19 14:55:03    0.000003\n",
       "2016-03-24 17:52:30    0.000003\n",
       "2016-04-04 17:48:06    0.000003\n",
       "2016-03-23 15:52:32    0.000003\n",
       "2016-04-03 04:32:43    0.000003\n",
       "Name: date_crawled, Length: 280500, dtype: float64"
      ]
     },
     "execution_count": 14,
     "metadata": {},
     "output_type": "execute_result"
    }
   ],
   "source": [
    "autos['date_crawled'].value_counts(normalize=True, dropna=False)"
   ]
  },
  {
   "cell_type": "code",
   "execution_count": 15,
   "metadata": {},
   "outputs": [
    {
     "data": {
      "text/plain": [
       "0         2016-03-24 11:52:17\n",
       "1         2016-03-24 10:58:45\n",
       "2         2016-03-14 12:52:21\n",
       "3         2016-03-17 16:54:04\n",
       "4         2016-03-31 17:25:20\n",
       "                 ...         \n",
       "371523    2016-03-14 17:48:27\n",
       "371524    2016-03-05 19:56:21\n",
       "371525    2016-03-19 18:57:12\n",
       "371526    2016-03-20 19:41:08\n",
       "371527    2016-03-07 19:39:19\n",
       "Name: date_crawled, Length: 371528, dtype: object"
      ]
     },
     "execution_count": 15,
     "metadata": {},
     "output_type": "execute_result"
    }
   ],
   "source": [
    "autos['date_crawled'].sort_index()"
   ]
  },
  {
   "cell_type": "code",
   "execution_count": 16,
   "metadata": {},
   "outputs": [
    {
     "data": {
      "text/plain": [
       "2016-04-03 00:00:00    0.038893\n",
       "2016-04-04 00:00:00    0.037741\n",
       "2016-03-20 00:00:00    0.036463\n",
       "2016-03-12 00:00:00    0.036011\n",
       "2016-03-21 00:00:00    0.035812\n",
       "                         ...   \n",
       "2015-08-10 00:00:00    0.000003\n",
       "2015-03-20 00:00:00    0.000003\n",
       "2016-01-14 00:00:00    0.000003\n",
       "2016-01-08 00:00:00    0.000003\n",
       "2015-12-17 00:00:00    0.000003\n",
       "Name: ad_created, Length: 114, dtype: float64"
      ]
     },
     "execution_count": 16,
     "metadata": {},
     "output_type": "execute_result"
    }
   ],
   "source": [
    "autos['ad_created'].value_counts(normalize=True, dropna=False)"
   ]
  },
  {
   "cell_type": "code",
   "execution_count": 17,
   "metadata": {},
   "outputs": [
    {
     "data": {
      "text/plain": [
       "0         2016-03-24 00:00:00\n",
       "1         2016-03-24 00:00:00\n",
       "2         2016-03-14 00:00:00\n",
       "3         2016-03-17 00:00:00\n",
       "4         2016-03-31 00:00:00\n",
       "                 ...         \n",
       "371523    2016-03-14 00:00:00\n",
       "371524    2016-03-05 00:00:00\n",
       "371525    2016-03-19 00:00:00\n",
       "371526    2016-03-20 00:00:00\n",
       "371527    2016-03-07 00:00:00\n",
       "Name: ad_created, Length: 371528, dtype: object"
      ]
     },
     "execution_count": 17,
     "metadata": {},
     "output_type": "execute_result"
    }
   ],
   "source": [
    "autos['ad_created'].sort_index()"
   ]
  },
  {
   "cell_type": "code",
   "execution_count": 18,
   "metadata": {},
   "outputs": [
    {
     "data": {
      "text/plain": [
       "2016-04-07 06:45:59    0.000046\n",
       "2016-04-06 13:45:54    0.000046\n",
       "2016-04-07 07:44:31    0.000043\n",
       "2016-04-06 09:17:58    0.000043\n",
       "2016-04-06 10:15:26    0.000043\n",
       "                         ...   \n",
       "2016-03-11 10:16:37    0.000003\n",
       "2016-03-25 19:31:13    0.000003\n",
       "2016-03-25 10:16:14    0.000003\n",
       "2016-03-30 03:46:30    0.000003\n",
       "2016-03-24 12:42:58    0.000003\n",
       "Name: last_seen, Length: 182806, dtype: float64"
      ]
     },
     "execution_count": 18,
     "metadata": {},
     "output_type": "execute_result"
    }
   ],
   "source": [
    "autos['last_seen'].value_counts(normalize=True, dropna=False)"
   ]
  },
  {
   "cell_type": "code",
   "execution_count": 19,
   "metadata": {},
   "outputs": [
    {
     "data": {
      "text/plain": [
       "0         2016-04-07 03:16:57\n",
       "1         2016-04-07 01:46:50\n",
       "2         2016-04-05 12:47:46\n",
       "3         2016-03-17 17:40:17\n",
       "4         2016-04-06 10:17:21\n",
       "                 ...         \n",
       "371523    2016-04-06 00:46:52\n",
       "371524    2016-03-11 18:17:12\n",
       "371525    2016-04-07 07:15:26\n",
       "371526    2016-03-24 12:45:21\n",
       "371527    2016-03-22 03:17:10\n",
       "Name: last_seen, Length: 371528, dtype: object"
      ]
     },
     "execution_count": 19,
     "metadata": {},
     "output_type": "execute_result"
    }
   ],
   "source": [
    "autos['last_seen'].sort_index()"
   ]
  },
  {
   "cell_type": "code",
   "execution_count": 20,
   "metadata": {},
   "outputs": [
    {
     "data": {
      "text/plain": [
       "count    371528.000000\n",
       "mean       2004.577997\n",
       "std          92.866598\n",
       "min        1000.000000\n",
       "25%        1999.000000\n",
       "50%        2003.000000\n",
       "75%        2008.000000\n",
       "max        9999.000000\n",
       "Name: registration_year, dtype: float64"
      ]
     },
     "execution_count": 20,
     "metadata": {},
     "output_type": "execute_result"
    }
   ],
   "source": [
    "autos['registration_year'].describe()"
   ]
  },
  {
   "cell_type": "markdown",
   "metadata": {},
   "source": [
    "# Dealing with Incorrect Registration Year Data\n",
    "One thing that stands out from the exploration we did in the last screen is that the registration_year column contains some odd values:\n",
    "- The minimum value is 1000, before cars were invented\n",
    "- The maximum value is 9999, many years into the future\n",
    "\n",
    "Because a car can't be first registered after the listing was seen, any vehicle with a registration year above 2016 is definitely inaccurate. Determining the earliest valid year is more difficult. Realistically, it could be somewhere in the first few decades of the 1900s.\n",
    "Let's count the number of listings with cars that fall outside the 1900 - 2016 interval and see if it's safe to remove those rows entirely, or if we need more custom logic."
   ]
  },
  {
   "cell_type": "code",
   "execution_count": 21,
   "metadata": {},
   "outputs": [
    {
     "data": {
      "text/plain": [
       "(4202,)"
      ]
     },
     "execution_count": 21,
     "metadata": {},
     "output_type": "execute_result"
    }
   ],
   "source": [
    "autos.loc[~ autos['registration_year'].between(1899, 2017), 'registration_year'].shape"
   ]
  },
  {
   "cell_type": "code",
   "execution_count": 22,
   "metadata": {},
   "outputs": [],
   "source": [
    "autos.loc[~ autos['registration_year'].between(1899, 2017), 'registration_year'] = np.nan"
   ]
  },
  {
   "cell_type": "code",
   "execution_count": 23,
   "metadata": {},
   "outputs": [],
   "source": [
    "autos.dropna(subset=['registration_year'], axis=0, inplace=True)"
   ]
  },
  {
   "cell_type": "code",
   "execution_count": 24,
   "metadata": {},
   "outputs": [
    {
     "data": {
      "text/plain": [
       "2000.0    0.066837\n",
       "1999.0    0.061980\n",
       "2005.0    0.060753\n",
       "2006.0    0.055074\n",
       "2001.0    0.055041\n",
       "            ...   \n",
       "1925.0    0.000003\n",
       "1920.0    0.000003\n",
       "1919.0    0.000003\n",
       "1915.0    0.000003\n",
       "1911.0    0.000003\n",
       "Name: registration_year, Length: 98, dtype: float64"
      ]
     },
     "execution_count": 24,
     "metadata": {},
     "output_type": "execute_result"
    }
   ],
   "source": [
    "autos['registration_year'].value_counts(normalize=True)"
   ]
  },
  {
   "cell_type": "code",
   "execution_count": 25,
   "metadata": {},
   "outputs": [
    {
     "data": {
      "text/plain": [
       "(367326, 20)"
      ]
     },
     "execution_count": 25,
     "metadata": {},
     "output_type": "execute_result"
    }
   ],
   "source": [
    "autos.shape"
   ]
  },
  {
   "cell_type": "markdown",
   "metadata": {},
   "source": [
    "* Exploring Price by Brand\n",
    "When working with data on cars, it's natural to explore variations across different car brands. We can use aggregation to understand the brand column. Here's what the process looks like:\n",
    "- Identify the unique values we want to aggregate by\n",
    "- Create an empty dictionary to store our aggregate data\n",
    "- Loop over the unique values, and for each loop I will (1) subset the dataframe by the unique values, (2) calculate the mean of whichever column we're interested in and, lastly (3) ssign the val/mean to the dict as k/v."
   ]
  },
  {
   "cell_type": "code",
   "execution_count": 26,
   "metadata": {},
   "outputs": [
    {
     "data": {
      "text/plain": [
       "array(['volkswagen', 'audi', 'jeep', 'skoda', 'bmw', 'peugeot', 'ford',\n",
       "       'mazda', 'nissan', 'renault', 'mercedes_benz', 'seat', 'citroen',\n",
       "       'honda', 'fiat', 'opel', 'mini', 'smart', 'hyundai',\n",
       "       'sonstige_autos', 'alfa_romeo', 'subaru', 'volvo', 'mitsubishi',\n",
       "       'kia', 'suzuki', 'lancia', 'porsche', 'toyota', 'chevrolet',\n",
       "       'dacia', 'daihatsu', 'trabant', 'saab', 'chrysler', 'jaguar',\n",
       "       'daewoo', 'rover', 'land_rover', 'lada'], dtype=object)"
      ]
     },
     "execution_count": 26,
     "metadata": {},
     "output_type": "execute_result"
    }
   ],
   "source": [
    "autos['brand'].unique()"
   ]
  },
  {
   "cell_type": "code",
   "execution_count": 27,
   "metadata": {},
   "outputs": [
    {
     "data": {
      "text/plain": [
       "volkswagen        78572\n",
       "bmw               39955\n",
       "opel              39624\n",
       "mercedes_benz     35016\n",
       "audi              32633\n",
       "ford              25275\n",
       "renault           17648\n",
       "peugeot           10913\n",
       "fiat               9530\n",
       "seat               6899\n",
       "mazda              5628\n",
       "skoda              5594\n",
       "smart              5191\n",
       "citroen            5129\n",
       "nissan             4987\n",
       "toyota             4657\n",
       "sonstige_autos     3893\n",
       "hyundai            3605\n",
       "mini               3352\n",
       "volvo              3309\n",
       "mitsubishi         3034\n",
       "honda              2797\n",
       "kia                2527\n",
       "alfa_romeo         2323\n",
       "suzuki             2307\n",
       "porsche            2205\n",
       "chevrolet          1816\n",
       "chrysler           1437\n",
       "dacia               889\n",
       "jeep                799\n",
       "daihatsu            796\n",
       "subaru              772\n",
       "land_rover          765\n",
       "jaguar              619\n",
       "trabant             586\n",
       "daewoo              537\n",
       "saab                525\n",
       "rover               485\n",
       "lancia              478\n",
       "lada                219\n",
       "Name: brand, dtype: int64"
      ]
     },
     "execution_count": 27,
     "metadata": {},
     "output_type": "execute_result"
    }
   ],
   "source": [
    "autos['brand'].value_counts()"
   ]
  },
  {
   "cell_type": "code",
   "execution_count": 28,
   "metadata": {},
   "outputs": [],
   "source": [
    "brand_mean_prices = {}\n",
    "brands = autos['brand'].unique()\n",
    "\n",
    "for brand in brands:\n",
    "    brand_mean_prices[brand] = autos.loc[autos['brand'] == brand, 'price'].mean()"
   ]
  },
  {
   "cell_type": "code",
   "execution_count": 29,
   "metadata": {},
   "outputs": [
    {
     "data": {
      "text/plain": [
       "{'volkswagen': 14677.971389298988,\n",
       " 'audi': 15947.492722091134,\n",
       " 'jeep': 12042.379224030037,\n",
       " 'skoda': 6424.702717196997,\n",
       " 'bmw': 14590.780277812539,\n",
       " 'peugeot': 3177.0065976358474,\n",
       " 'ford': 8527.891552917903,\n",
       " 'mazda': 5713.083333333333,\n",
       " 'nissan': 4543.245638660517,\n",
       " 'renault': 2342.912454669084,\n",
       " 'mercedes_benz': 17338.188885081105,\n",
       " 'seat': 4379.713291781418,\n",
       " 'citroen': 8936.418990056542,\n",
       " 'honda': 3811.91455130497,\n",
       " 'fiat': 5369.487932843652,\n",
       " 'opel': 3233.977008883505,\n",
       " 'mini': 9895.394391408114,\n",
       " 'smart': 3546.3007127721057,\n",
       " 'hyundai': 5426.885991678225,\n",
       " 'sonstige_autos': 627054.5861803236,\n",
       " 'alfa_romeo': 36041.2677572105,\n",
       " 'subaru': 4229.926165803109,\n",
       " 'volvo': 5077.751888788153,\n",
       " 'mitsubishi': 3278.6502966381017,\n",
       " 'kia': 5677.150771666007,\n",
       " 'suzuki': 4380.435197225835,\n",
       " 'lancia': 3175.3723849372386,\n",
       " 'porsche': 51162.89070294784,\n",
       " 'toyota': 5237.571827356667,\n",
       " 'chevrolet': 7476.205396475771,\n",
       " 'dacia': 5847.721034870641,\n",
       " 'daihatsu': 1696.6557788944724,\n",
       " 'trabant': 20577.237201365188,\n",
       " 'saab': 3839.5085714285715,\n",
       " 'chrysler': 3917.4189283228948,\n",
       " 'jaguar': 14239.321486268174,\n",
       " 'daewoo': 1016.3947858472998,\n",
       " 'rover': 1509.2659793814432,\n",
       " 'land_rover': 16779.60392156863,\n",
       " 'lada': 3016.5525114155253}"
      ]
     },
     "execution_count": 29,
     "metadata": {},
     "output_type": "execute_result"
    }
   ],
   "source": [
    "brand_mean_prices"
   ]
  },
  {
   "cell_type": "markdown",
   "metadata": {},
   "source": [
    "# Storing Aggregate Data in a DataFrame\n",
    "We aggregated across brands to understand mean price. We observed that in the top 6 brands, there's a distinct price gap.\n",
    "- Audi, BMW and Mercedes Benz are more expensive\n",
    "- Ford and Opel are less expensive\n",
    "- Volkswagen is in between\n",
    "\n",
    "For the top 6 brands, let's use aggregation to understand the average mileage for those cars and if there's any visible link with mean price. While our natural instinct may be to display both aggregated series objects and visually compare them, this has a few limitations:\n",
    "- it's difficult to compare more than two aggregate series objects if we want to extend to more columns\n",
    "- we can't compare more than a few rows from each series object\n",
    "- we can only sort by the index (brand name) of both series objects so we can easily make visual comparisons\n",
    "\n",
    "Instead, we can combine the data from both series objects into a single dataframe (with a shared index) and display the dataframe directly. To do this, we'll need to learn two pandas methods:\n",
    "- pandas series constructor\n",
    "- pandas dataframe constructor"
   ]
  },
  {
   "cell_type": "code",
   "execution_count": 33,
   "metadata": {},
   "outputs": [],
   "source": [
    "brand_mean_kilometer = {}\n",
    "for brand in brands:\n",
    "    brand_mean_kilometer[brand] = autos.loc[autos['brand'] == brand, 'kilometer'].mean()"
   ]
  },
  {
   "cell_type": "code",
   "execution_count": 34,
   "metadata": {},
   "outputs": [
    {
     "data": {
      "text/plain": [
       "{'volkswagen': 128561.9559130479,\n",
       " 'audi': 129674.4093402384,\n",
       " 'jeep': 120913.6420525657,\n",
       " 'skoda': 113835.35931355023,\n",
       " 'bmw': 132785.0081341509,\n",
       " 'peugeot': 124861.63291487217,\n",
       " 'ford': 123813.25420375865,\n",
       " 'mazda': 126013.68159203981,\n",
       " 'nissan': 119733.3065971526,\n",
       " 'renault': 128073.15276518586,\n",
       " 'mercedes_benz': 130734.66415352981,\n",
       " 'seat': 121334.97608349036,\n",
       " 'citroen': 120514.72021836616,\n",
       " 'honda': 125947.4436896675,\n",
       " 'fiat': 116817.94333683106,\n",
       " 'opel': 128908.7421764587,\n",
       " 'mini': 94331.74224343675,\n",
       " 'smart': 100377.57657484108,\n",
       " 'hyundai': 104638.00277392511,\n",
       " 'sonstige_autos': 87035.70511173902,\n",
       " 'alfa_romeo': 128861.38613861386,\n",
       " 'subaru': 126528.49740932643,\n",
       " 'volvo': 138115.74493804775,\n",
       " 'mitsubishi': 127102.83454185893,\n",
       " 'kia': 109491.49188761377,\n",
       " 'suzuki': 106991.76419592544,\n",
       " 'lancia': 124466.52719665272,\n",
       " 'porsche': 98396.8253968254,\n",
       " 'toyota': 117403.90809534035,\n",
       " 'chevrolet': 100154.18502202643,\n",
       " 'dacia': 86237.34533183352,\n",
       " 'daihatsu': 119007.53768844221,\n",
       " 'trabant': 55972.69624573379,\n",
       " 'saab': 141666.66666666666,\n",
       " 'chrysler': 134133.61169102296,\n",
       " 'jaguar': 121930.53311793215,\n",
       " 'daewoo': 123314.7113594041,\n",
       " 'rover': 134938.1443298969,\n",
       " 'land_rover': 119379.08496732026,\n",
       " 'lada': 75456.62100456622}"
      ]
     },
     "execution_count": 34,
     "metadata": {},
     "output_type": "execute_result"
    }
   ],
   "source": [
    "brand_mean_kilometer"
   ]
  },
  {
   "cell_type": "code",
   "execution_count": 35,
   "metadata": {},
   "outputs": [],
   "source": [
    "bmp = pd.Series(brand_mean_prices)\n",
    "bmk = pd.Series(brand_mean_kilometer)\n",
    "bm = pd.DataFrame(bmp, columns=['mean_prices'])\n",
    "bm['mean_kilometer'] = bmk"
   ]
  },
  {
   "cell_type": "code",
   "execution_count": 36,
   "metadata": {},
   "outputs": [
    {
     "data": {
      "text/html": [
       "<div>\n",
       "<style scoped>\n",
       "    .dataframe tbody tr th:only-of-type {\n",
       "        vertical-align: middle;\n",
       "    }\n",
       "\n",
       "    .dataframe tbody tr th {\n",
       "        vertical-align: top;\n",
       "    }\n",
       "\n",
       "    .dataframe thead th {\n",
       "        text-align: right;\n",
       "    }\n",
       "</style>\n",
       "<table border=\"1\" class=\"dataframe\">\n",
       "  <thead>\n",
       "    <tr style=\"text-align: right;\">\n",
       "      <th></th>\n",
       "      <th>mean_prices</th>\n",
       "      <th>mean_kilometer</th>\n",
       "    </tr>\n",
       "  </thead>\n",
       "  <tbody>\n",
       "    <tr>\n",
       "      <th>volkswagen</th>\n",
       "      <td>14677.971389</td>\n",
       "      <td>128561.955913</td>\n",
       "    </tr>\n",
       "    <tr>\n",
       "      <th>audi</th>\n",
       "      <td>15947.492722</td>\n",
       "      <td>129674.409340</td>\n",
       "    </tr>\n",
       "    <tr>\n",
       "      <th>jeep</th>\n",
       "      <td>12042.379224</td>\n",
       "      <td>120913.642053</td>\n",
       "    </tr>\n",
       "    <tr>\n",
       "      <th>skoda</th>\n",
       "      <td>6424.702717</td>\n",
       "      <td>113835.359314</td>\n",
       "    </tr>\n",
       "    <tr>\n",
       "      <th>bmw</th>\n",
       "      <td>14590.780278</td>\n",
       "      <td>132785.008134</td>\n",
       "    </tr>\n",
       "    <tr>\n",
       "      <th>peugeot</th>\n",
       "      <td>3177.006598</td>\n",
       "      <td>124861.632915</td>\n",
       "    </tr>\n",
       "    <tr>\n",
       "      <th>ford</th>\n",
       "      <td>8527.891553</td>\n",
       "      <td>123813.254204</td>\n",
       "    </tr>\n",
       "    <tr>\n",
       "      <th>mazda</th>\n",
       "      <td>5713.083333</td>\n",
       "      <td>126013.681592</td>\n",
       "    </tr>\n",
       "    <tr>\n",
       "      <th>nissan</th>\n",
       "      <td>4543.245639</td>\n",
       "      <td>119733.306597</td>\n",
       "    </tr>\n",
       "    <tr>\n",
       "      <th>renault</th>\n",
       "      <td>2342.912455</td>\n",
       "      <td>128073.152765</td>\n",
       "    </tr>\n",
       "    <tr>\n",
       "      <th>mercedes_benz</th>\n",
       "      <td>17338.188885</td>\n",
       "      <td>130734.664154</td>\n",
       "    </tr>\n",
       "    <tr>\n",
       "      <th>seat</th>\n",
       "      <td>4379.713292</td>\n",
       "      <td>121334.976083</td>\n",
       "    </tr>\n",
       "    <tr>\n",
       "      <th>citroen</th>\n",
       "      <td>8936.418990</td>\n",
       "      <td>120514.720218</td>\n",
       "    </tr>\n",
       "    <tr>\n",
       "      <th>honda</th>\n",
       "      <td>3811.914551</td>\n",
       "      <td>125947.443690</td>\n",
       "    </tr>\n",
       "    <tr>\n",
       "      <th>fiat</th>\n",
       "      <td>5369.487933</td>\n",
       "      <td>116817.943337</td>\n",
       "    </tr>\n",
       "    <tr>\n",
       "      <th>opel</th>\n",
       "      <td>3233.977009</td>\n",
       "      <td>128908.742176</td>\n",
       "    </tr>\n",
       "    <tr>\n",
       "      <th>mini</th>\n",
       "      <td>9895.394391</td>\n",
       "      <td>94331.742243</td>\n",
       "    </tr>\n",
       "    <tr>\n",
       "      <th>smart</th>\n",
       "      <td>3546.300713</td>\n",
       "      <td>100377.576575</td>\n",
       "    </tr>\n",
       "    <tr>\n",
       "      <th>hyundai</th>\n",
       "      <td>5426.885992</td>\n",
       "      <td>104638.002774</td>\n",
       "    </tr>\n",
       "    <tr>\n",
       "      <th>sonstige_autos</th>\n",
       "      <td>627054.586180</td>\n",
       "      <td>87035.705112</td>\n",
       "    </tr>\n",
       "    <tr>\n",
       "      <th>alfa_romeo</th>\n",
       "      <td>36041.267757</td>\n",
       "      <td>128861.386139</td>\n",
       "    </tr>\n",
       "    <tr>\n",
       "      <th>subaru</th>\n",
       "      <td>4229.926166</td>\n",
       "      <td>126528.497409</td>\n",
       "    </tr>\n",
       "    <tr>\n",
       "      <th>volvo</th>\n",
       "      <td>5077.751889</td>\n",
       "      <td>138115.744938</td>\n",
       "    </tr>\n",
       "    <tr>\n",
       "      <th>mitsubishi</th>\n",
       "      <td>3278.650297</td>\n",
       "      <td>127102.834542</td>\n",
       "    </tr>\n",
       "    <tr>\n",
       "      <th>kia</th>\n",
       "      <td>5677.150772</td>\n",
       "      <td>109491.491888</td>\n",
       "    </tr>\n",
       "    <tr>\n",
       "      <th>suzuki</th>\n",
       "      <td>4380.435197</td>\n",
       "      <td>106991.764196</td>\n",
       "    </tr>\n",
       "    <tr>\n",
       "      <th>lancia</th>\n",
       "      <td>3175.372385</td>\n",
       "      <td>124466.527197</td>\n",
       "    </tr>\n",
       "    <tr>\n",
       "      <th>porsche</th>\n",
       "      <td>51162.890703</td>\n",
       "      <td>98396.825397</td>\n",
       "    </tr>\n",
       "    <tr>\n",
       "      <th>toyota</th>\n",
       "      <td>5237.571827</td>\n",
       "      <td>117403.908095</td>\n",
       "    </tr>\n",
       "    <tr>\n",
       "      <th>chevrolet</th>\n",
       "      <td>7476.205396</td>\n",
       "      <td>100154.185022</td>\n",
       "    </tr>\n",
       "    <tr>\n",
       "      <th>dacia</th>\n",
       "      <td>5847.721035</td>\n",
       "      <td>86237.345332</td>\n",
       "    </tr>\n",
       "    <tr>\n",
       "      <th>daihatsu</th>\n",
       "      <td>1696.655779</td>\n",
       "      <td>119007.537688</td>\n",
       "    </tr>\n",
       "    <tr>\n",
       "      <th>trabant</th>\n",
       "      <td>20577.237201</td>\n",
       "      <td>55972.696246</td>\n",
       "    </tr>\n",
       "    <tr>\n",
       "      <th>saab</th>\n",
       "      <td>3839.508571</td>\n",
       "      <td>141666.666667</td>\n",
       "    </tr>\n",
       "    <tr>\n",
       "      <th>chrysler</th>\n",
       "      <td>3917.418928</td>\n",
       "      <td>134133.611691</td>\n",
       "    </tr>\n",
       "    <tr>\n",
       "      <th>jaguar</th>\n",
       "      <td>14239.321486</td>\n",
       "      <td>121930.533118</td>\n",
       "    </tr>\n",
       "    <tr>\n",
       "      <th>daewoo</th>\n",
       "      <td>1016.394786</td>\n",
       "      <td>123314.711359</td>\n",
       "    </tr>\n",
       "    <tr>\n",
       "      <th>rover</th>\n",
       "      <td>1509.265979</td>\n",
       "      <td>134938.144330</td>\n",
       "    </tr>\n",
       "    <tr>\n",
       "      <th>land_rover</th>\n",
       "      <td>16779.603922</td>\n",
       "      <td>119379.084967</td>\n",
       "    </tr>\n",
       "    <tr>\n",
       "      <th>lada</th>\n",
       "      <td>3016.552511</td>\n",
       "      <td>75456.621005</td>\n",
       "    </tr>\n",
       "  </tbody>\n",
       "</table>\n",
       "</div>"
      ],
      "text/plain": [
       "                  mean_prices  mean_kilometer\n",
       "volkswagen       14677.971389   128561.955913\n",
       "audi             15947.492722   129674.409340\n",
       "jeep             12042.379224   120913.642053\n",
       "skoda             6424.702717   113835.359314\n",
       "bmw              14590.780278   132785.008134\n",
       "peugeot           3177.006598   124861.632915\n",
       "ford              8527.891553   123813.254204\n",
       "mazda             5713.083333   126013.681592\n",
       "nissan            4543.245639   119733.306597\n",
       "renault           2342.912455   128073.152765\n",
       "mercedes_benz    17338.188885   130734.664154\n",
       "seat              4379.713292   121334.976083\n",
       "citroen           8936.418990   120514.720218\n",
       "honda             3811.914551   125947.443690\n",
       "fiat              5369.487933   116817.943337\n",
       "opel              3233.977009   128908.742176\n",
       "mini              9895.394391    94331.742243\n",
       "smart             3546.300713   100377.576575\n",
       "hyundai           5426.885992   104638.002774\n",
       "sonstige_autos  627054.586180    87035.705112\n",
       "alfa_romeo       36041.267757   128861.386139\n",
       "subaru            4229.926166   126528.497409\n",
       "volvo             5077.751889   138115.744938\n",
       "mitsubishi        3278.650297   127102.834542\n",
       "kia               5677.150772   109491.491888\n",
       "suzuki            4380.435197   106991.764196\n",
       "lancia            3175.372385   124466.527197\n",
       "porsche          51162.890703    98396.825397\n",
       "toyota            5237.571827   117403.908095\n",
       "chevrolet         7476.205396   100154.185022\n",
       "dacia             5847.721035    86237.345332\n",
       "daihatsu          1696.655779   119007.537688\n",
       "trabant          20577.237201    55972.696246\n",
       "saab              3839.508571   141666.666667\n",
       "chrysler          3917.418928   134133.611691\n",
       "jaguar           14239.321486   121930.533118\n",
       "daewoo            1016.394786   123314.711359\n",
       "rover             1509.265979   134938.144330\n",
       "land_rover       16779.603922   119379.084967\n",
       "lada              3016.552511    75456.621005"
      ]
     },
     "execution_count": 36,
     "metadata": {},
     "output_type": "execute_result"
    }
   ],
   "source": [
    "bm"
   ]
  },
  {
   "cell_type": "code",
   "execution_count": null,
   "metadata": {},
   "outputs": [],
   "source": []
  }
 ],
 "metadata": {
  "kernelspec": {
   "display_name": "Python 3",
   "language": "python",
   "name": "python3"
  },
  "language_info": {
   "codemirror_mode": {
    "name": "ipython",
    "version": 3
   },
   "file_extension": ".py",
   "mimetype": "text/x-python",
   "name": "python",
   "nbconvert_exporter": "python",
   "pygments_lexer": "ipython3",
   "version": "3.7.6"
  }
 },
 "nbformat": 4,
 "nbformat_minor": 4
}
